{
 "cells": [
  {
   "cell_type": "code",
   "execution_count": null,
   "metadata": {},
   "outputs": [],
   "source": [
    "# Calculadora básica en Python\n",
    "\n",
    "def suma(a, b):\n",
    "    return a + b\n",
    "\n",
    "def resta(a, b):\n",
    "    return a - b\n",
    "\n",
    "def multiplicacion(a, b):\n",
    "    return a * b\n",
    "\n",
    "def division(a, b):\n",
    "    if b != 0:\n",
    "        return a / b\n",
    "    else:\n",
    "        return \"Error: No se puede dividir entre cero.\"\n",
    "\n",
    "# Solicita los números al usuario\n",
    "num1 = float(input(\"Introduce el primer número: \"))\n",
    "num2 = float(input(\"Introduce el segundo número: \"))\n",
    "\n",
    "# Muestra las opciones disponibles\n",
    "print(\"\\nOperaciones disponibles:\")\n",
    "print(\"1. Suma\")\n",
    "print(\"2. Resta\")\n",
    "print(\"3. Multiplicación\")\n",
    "print(\"4. División\")\n",
    "\n",
    "opcion = int(input(\"Elige una opción (1/2/3/4): \"))\n",
    "\n",
    "# Realiza la operación seleccionada\n",
    "if opcion == 1:\n",
    "    print(f\"Resultado de la suma: {suma(num1, num2)}\")\n",
    "elif opcion == 2:\n",
    "    print(f\"Resultado de la resta: {resta(num1, num2)}\")\n",
    "elif opcion == 3:\n",
    "    print(f\"Resultado de la multiplicación: {multiplicacion(num1, num2)}\")\n",
    "elif opcion == 4:\n",
    "    print(f\"Resultado de la división: {division(num1, num2)}\")\n",
    "else:\n",
    "    print(\"Opción no válida. Introduce una opción válida (1/2/3/4).\")\n"
   ]
  }
 ],
 "metadata": {
  "language_info": {
   "name": "python"
  }
 },
 "nbformat": 4,
 "nbformat_minor": 2
}
